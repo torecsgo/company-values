{
 "cells": [
  {
   "cell_type": "code",
   "execution_count": 21,
   "metadata": {},
   "outputs": [],
   "source": [
    "import pandas as pd\n",
    "from statsmodels.tsa.statespace.sarimax import SARIMAX\n",
    "from pmdarima import auto_arima"
   ]
  },
  {
   "cell_type": "code",
   "execution_count": 22,
   "metadata": {},
   "outputs": [
    {
     "data": {
      "text/html": [
       "<div>\n",
       "<style scoped>\n",
       "    .dataframe tbody tr th:only-of-type {\n",
       "        vertical-align: middle;\n",
       "    }\n",
       "\n",
       "    .dataframe tbody tr th {\n",
       "        vertical-align: top;\n",
       "    }\n",
       "\n",
       "    .dataframe thead th {\n",
       "        text-align: right;\n",
       "    }\n",
       "</style>\n",
       "<table border=\"1\" class=\"dataframe\">\n",
       "  <thead>\n",
       "    <tr style=\"text-align: right;\">\n",
       "      <th></th>\n",
       "      <th>Open</th>\n",
       "      <th>High</th>\n",
       "      <th>Low</th>\n",
       "      <th>Close</th>\n",
       "      <th>Volume</th>\n",
       "    </tr>\n",
       "    <tr>\n",
       "      <th>Date</th>\n",
       "      <th></th>\n",
       "      <th></th>\n",
       "      <th></th>\n",
       "      <th></th>\n",
       "      <th></th>\n",
       "    </tr>\n",
       "  </thead>\n",
       "  <tbody>\n",
       "    <tr>\n",
       "      <th>2010-06-29</th>\n",
       "      <td>1.592667</td>\n",
       "      <td>1.666667</td>\n",
       "      <td>1.169333</td>\n",
       "      <td>1.266667</td>\n",
       "      <td>281494500</td>\n",
       "    </tr>\n",
       "    <tr>\n",
       "      <th>2010-06-30</th>\n",
       "      <td>1.588667</td>\n",
       "      <td>2.028000</td>\n",
       "      <td>1.553333</td>\n",
       "      <td>1.719333</td>\n",
       "      <td>257806500</td>\n",
       "    </tr>\n",
       "    <tr>\n",
       "      <th>2010-07-01</th>\n",
       "      <td>1.464000</td>\n",
       "      <td>1.728000</td>\n",
       "      <td>1.351333</td>\n",
       "      <td>1.666667</td>\n",
       "      <td>123282000</td>\n",
       "    </tr>\n",
       "    <tr>\n",
       "      <th>2010-07-02</th>\n",
       "      <td>1.280000</td>\n",
       "      <td>1.540000</td>\n",
       "      <td>1.247333</td>\n",
       "      <td>1.533333</td>\n",
       "      <td>77097000</td>\n",
       "    </tr>\n",
       "    <tr>\n",
       "      <th>2010-07-06</th>\n",
       "      <td>1.074000</td>\n",
       "      <td>1.333333</td>\n",
       "      <td>1.055333</td>\n",
       "      <td>1.333333</td>\n",
       "      <td>103003500</td>\n",
       "    </tr>\n",
       "    <tr>\n",
       "      <th>...</th>\n",
       "      <td>...</td>\n",
       "      <td>...</td>\n",
       "      <td>...</td>\n",
       "      <td>...</td>\n",
       "      <td>...</td>\n",
       "    </tr>\n",
       "    <tr>\n",
       "      <th>2025-03-26</th>\n",
       "      <td>272.059998</td>\n",
       "      <td>284.899994</td>\n",
       "      <td>266.510010</td>\n",
       "      <td>282.660004</td>\n",
       "      <td>153629800</td>\n",
       "    </tr>\n",
       "    <tr>\n",
       "      <th>2025-03-27</th>\n",
       "      <td>273.130005</td>\n",
       "      <td>291.850006</td>\n",
       "      <td>271.820007</td>\n",
       "      <td>272.480011</td>\n",
       "      <td>162572100</td>\n",
       "    </tr>\n",
       "    <tr>\n",
       "      <th>2025-03-28</th>\n",
       "      <td>263.549988</td>\n",
       "      <td>276.100006</td>\n",
       "      <td>260.570007</td>\n",
       "      <td>275.579987</td>\n",
       "      <td>123809400</td>\n",
       "    </tr>\n",
       "    <tr>\n",
       "      <th>2025-03-31</th>\n",
       "      <td>259.160004</td>\n",
       "      <td>260.559998</td>\n",
       "      <td>243.360001</td>\n",
       "      <td>249.309998</td>\n",
       "      <td>133450000</td>\n",
       "    </tr>\n",
       "    <tr>\n",
       "      <th>2025-04-01</th>\n",
       "      <td>271.100006</td>\n",
       "      <td>277.450012</td>\n",
       "      <td>259.250000</td>\n",
       "      <td>263.734985</td>\n",
       "      <td>87311297</td>\n",
       "    </tr>\n",
       "  </tbody>\n",
       "</table>\n",
       "<p>3713 rows × 5 columns</p>\n",
       "</div>"
      ],
      "text/plain": [
       "                  Open        High         Low       Close     Volume\n",
       "Date                                                                 \n",
       "2010-06-29    1.592667    1.666667    1.169333    1.266667  281494500\n",
       "2010-06-30    1.588667    2.028000    1.553333    1.719333  257806500\n",
       "2010-07-01    1.464000    1.728000    1.351333    1.666667  123282000\n",
       "2010-07-02    1.280000    1.540000    1.247333    1.533333   77097000\n",
       "2010-07-06    1.074000    1.333333    1.055333    1.333333  103003500\n",
       "...                ...         ...         ...         ...        ...\n",
       "2025-03-26  272.059998  284.899994  266.510010  282.660004  153629800\n",
       "2025-03-27  273.130005  291.850006  271.820007  272.480011  162572100\n",
       "2025-03-28  263.549988  276.100006  260.570007  275.579987  123809400\n",
       "2025-03-31  259.160004  260.559998  243.360001  249.309998  133450000\n",
       "2025-04-01  271.100006  277.450012  259.250000  263.734985   87311297\n",
       "\n",
       "[3713 rows x 5 columns]"
      ]
     },
     "execution_count": 22,
     "metadata": {},
     "output_type": "execute_result"
    }
   ],
   "source": [
    "tsla = pd.read_csv('./data/TSLA_historical_data.csv', parse_dates=['Date'], index_col='Date')\n",
    "tsla"
   ]
  },
  {
   "cell_type": "code",
   "execution_count": 23,
   "metadata": {},
   "outputs": [],
   "source": [
    "# Crear variables seguras (lag features)\n",
    "#tsla['prev_day_Close'] = tsla['Close'].shift(1)  # Cierre del día anterior\n",
    "tsla['prev_day_Volume'] = tsla['Volume'].shift(1)  # Volumen del día anterior\n",
    "tsla['prev_day_High'] = tsla['High'].shift(1)  # Máximo del día anterior"
   ]
  },
  {
   "cell_type": "code",
   "execution_count": 24,
   "metadata": {},
   "outputs": [
    {
     "data": {
      "text/html": [
       "<div>\n",
       "<style scoped>\n",
       "    .dataframe tbody tr th:only-of-type {\n",
       "        vertical-align: middle;\n",
       "    }\n",
       "\n",
       "    .dataframe tbody tr th {\n",
       "        vertical-align: top;\n",
       "    }\n",
       "\n",
       "    .dataframe thead th {\n",
       "        text-align: right;\n",
       "    }\n",
       "</style>\n",
       "<table border=\"1\" class=\"dataframe\">\n",
       "  <thead>\n",
       "    <tr style=\"text-align: right;\">\n",
       "      <th></th>\n",
       "      <th>Open</th>\n",
       "      <th>High</th>\n",
       "      <th>Low</th>\n",
       "      <th>Close</th>\n",
       "      <th>Volume</th>\n",
       "      <th>prev_day_Volume</th>\n",
       "      <th>prev_day_High</th>\n",
       "    </tr>\n",
       "    <tr>\n",
       "      <th>Date</th>\n",
       "      <th></th>\n",
       "      <th></th>\n",
       "      <th></th>\n",
       "      <th></th>\n",
       "      <th></th>\n",
       "      <th></th>\n",
       "      <th></th>\n",
       "    </tr>\n",
       "  </thead>\n",
       "  <tbody>\n",
       "    <tr>\n",
       "      <th>2010-06-29</th>\n",
       "      <td>1.592667</td>\n",
       "      <td>1.666667</td>\n",
       "      <td>1.169333</td>\n",
       "      <td>1.266667</td>\n",
       "      <td>281494500</td>\n",
       "      <td>NaN</td>\n",
       "      <td>NaN</td>\n",
       "    </tr>\n",
       "    <tr>\n",
       "      <th>2010-06-30</th>\n",
       "      <td>1.588667</td>\n",
       "      <td>2.028000</td>\n",
       "      <td>1.553333</td>\n",
       "      <td>1.719333</td>\n",
       "      <td>257806500</td>\n",
       "      <td>281494500.0</td>\n",
       "      <td>1.666667</td>\n",
       "    </tr>\n",
       "    <tr>\n",
       "      <th>2010-07-01</th>\n",
       "      <td>1.464000</td>\n",
       "      <td>1.728000</td>\n",
       "      <td>1.351333</td>\n",
       "      <td>1.666667</td>\n",
       "      <td>123282000</td>\n",
       "      <td>257806500.0</td>\n",
       "      <td>2.028000</td>\n",
       "    </tr>\n",
       "    <tr>\n",
       "      <th>2010-07-02</th>\n",
       "      <td>1.280000</td>\n",
       "      <td>1.540000</td>\n",
       "      <td>1.247333</td>\n",
       "      <td>1.533333</td>\n",
       "      <td>77097000</td>\n",
       "      <td>123282000.0</td>\n",
       "      <td>1.728000</td>\n",
       "    </tr>\n",
       "    <tr>\n",
       "      <th>2010-07-06</th>\n",
       "      <td>1.074000</td>\n",
       "      <td>1.333333</td>\n",
       "      <td>1.055333</td>\n",
       "      <td>1.333333</td>\n",
       "      <td>103003500</td>\n",
       "      <td>77097000.0</td>\n",
       "      <td>1.540000</td>\n",
       "    </tr>\n",
       "    <tr>\n",
       "      <th>...</th>\n",
       "      <td>...</td>\n",
       "      <td>...</td>\n",
       "      <td>...</td>\n",
       "      <td>...</td>\n",
       "      <td>...</td>\n",
       "      <td>...</td>\n",
       "      <td>...</td>\n",
       "    </tr>\n",
       "    <tr>\n",
       "      <th>2025-03-26</th>\n",
       "      <td>272.059998</td>\n",
       "      <td>284.899994</td>\n",
       "      <td>266.510010</td>\n",
       "      <td>282.660004</td>\n",
       "      <td>153629800</td>\n",
       "      <td>150361500.0</td>\n",
       "      <td>288.200012</td>\n",
       "    </tr>\n",
       "    <tr>\n",
       "      <th>2025-03-27</th>\n",
       "      <td>273.130005</td>\n",
       "      <td>291.850006</td>\n",
       "      <td>271.820007</td>\n",
       "      <td>272.480011</td>\n",
       "      <td>162572100</td>\n",
       "      <td>153629800.0</td>\n",
       "      <td>284.899994</td>\n",
       "    </tr>\n",
       "    <tr>\n",
       "      <th>2025-03-28</th>\n",
       "      <td>263.549988</td>\n",
       "      <td>276.100006</td>\n",
       "      <td>260.570007</td>\n",
       "      <td>275.579987</td>\n",
       "      <td>123809400</td>\n",
       "      <td>162572100.0</td>\n",
       "      <td>291.850006</td>\n",
       "    </tr>\n",
       "    <tr>\n",
       "      <th>2025-03-31</th>\n",
       "      <td>259.160004</td>\n",
       "      <td>260.559998</td>\n",
       "      <td>243.360001</td>\n",
       "      <td>249.309998</td>\n",
       "      <td>133450000</td>\n",
       "      <td>123809400.0</td>\n",
       "      <td>276.100006</td>\n",
       "    </tr>\n",
       "    <tr>\n",
       "      <th>2025-04-01</th>\n",
       "      <td>271.100006</td>\n",
       "      <td>277.450012</td>\n",
       "      <td>259.250000</td>\n",
       "      <td>263.734985</td>\n",
       "      <td>87311297</td>\n",
       "      <td>133450000.0</td>\n",
       "      <td>260.559998</td>\n",
       "    </tr>\n",
       "  </tbody>\n",
       "</table>\n",
       "<p>3713 rows × 7 columns</p>\n",
       "</div>"
      ],
      "text/plain": [
       "                  Open        High         Low       Close     Volume  \\\n",
       "Date                                                                    \n",
       "2010-06-29    1.592667    1.666667    1.169333    1.266667  281494500   \n",
       "2010-06-30    1.588667    2.028000    1.553333    1.719333  257806500   \n",
       "2010-07-01    1.464000    1.728000    1.351333    1.666667  123282000   \n",
       "2010-07-02    1.280000    1.540000    1.247333    1.533333   77097000   \n",
       "2010-07-06    1.074000    1.333333    1.055333    1.333333  103003500   \n",
       "...                ...         ...         ...         ...        ...   \n",
       "2025-03-26  272.059998  284.899994  266.510010  282.660004  153629800   \n",
       "2025-03-27  273.130005  291.850006  271.820007  272.480011  162572100   \n",
       "2025-03-28  263.549988  276.100006  260.570007  275.579987  123809400   \n",
       "2025-03-31  259.160004  260.559998  243.360001  249.309998  133450000   \n",
       "2025-04-01  271.100006  277.450012  259.250000  263.734985   87311297   \n",
       "\n",
       "            prev_day_Volume  prev_day_High  \n",
       "Date                                        \n",
       "2010-06-29              NaN            NaN  \n",
       "2010-06-30      281494500.0       1.666667  \n",
       "2010-07-01      257806500.0       2.028000  \n",
       "2010-07-02      123282000.0       1.728000  \n",
       "2010-07-06       77097000.0       1.540000  \n",
       "...                     ...            ...  \n",
       "2025-03-26      150361500.0     288.200012  \n",
       "2025-03-27      153629800.0     284.899994  \n",
       "2025-03-28      162572100.0     291.850006  \n",
       "2025-03-31      123809400.0     276.100006  \n",
       "2025-04-01      133450000.0     260.559998  \n",
       "\n",
       "[3713 rows x 7 columns]"
      ]
     },
     "execution_count": 24,
     "metadata": {},
     "output_type": "execute_result"
    }
   ],
   "source": [
    "tsla"
   ]
  },
  {
   "cell_type": "code",
   "execution_count": 25,
   "metadata": {},
   "outputs": [],
   "source": [
    "# Variable objetivo\n",
    "y = tsla['Open']\n",
    "\n",
    "# Features sin leakage (exógenas)\n",
    "exog = tsla[['prev_day_Volume', 'prev_day_High']].dropna()\n",
    "y = y.loc[exog.index]  # Alinear índices"
   ]
  },
  {
   "cell_type": "code",
   "execution_count": 26,
   "metadata": {},
   "outputs": [
    {
     "name": "stderr",
     "output_type": "stream",
     "text": [
      "c:\\Users\\linkiafp\\miniconda3\\envs\\iabd_time_series\\lib\\site-packages\\sklearn\\utils\\deprecation.py:151: FutureWarning: 'force_all_finite' was renamed to 'ensure_all_finite' in 1.6 and will be removed in 1.8.\n",
      "  warnings.warn(\n",
      "c:\\Users\\linkiafp\\miniconda3\\envs\\iabd_time_series\\lib\\site-packages\\sklearn\\utils\\deprecation.py:151: FutureWarning: 'force_all_finite' was renamed to 'ensure_all_finite' in 1.6 and will be removed in 1.8.\n",
      "  warnings.warn(\n",
      "c:\\Users\\linkiafp\\miniconda3\\envs\\iabd_time_series\\lib\\site-packages\\sklearn\\utils\\deprecation.py:151: FutureWarning: 'force_all_finite' was renamed to 'ensure_all_finite' in 1.6 and will be removed in 1.8.\n",
      "  warnings.warn(\n",
      "c:\\Users\\linkiafp\\miniconda3\\envs\\iabd_time_series\\lib\\site-packages\\sklearn\\utils\\deprecation.py:151: FutureWarning: 'force_all_finite' was renamed to 'ensure_all_finite' in 1.6 and will be removed in 1.8.\n",
      "  warnings.warn(\n",
      "c:\\Users\\linkiafp\\miniconda3\\envs\\iabd_time_series\\lib\\site-packages\\sklearn\\utils\\deprecation.py:151: FutureWarning: 'force_all_finite' was renamed to 'ensure_all_finite' in 1.6 and will be removed in 1.8.\n",
      "  warnings.warn(\n",
      "c:\\Users\\linkiafp\\miniconda3\\envs\\iabd_time_series\\lib\\site-packages\\sklearn\\utils\\deprecation.py:151: FutureWarning: 'force_all_finite' was renamed to 'ensure_all_finite' in 1.6 and will be removed in 1.8.\n",
      "  warnings.warn(\n",
      "c:\\Users\\linkiafp\\miniconda3\\envs\\iabd_time_series\\lib\\site-packages\\sklearn\\utils\\deprecation.py:151: FutureWarning: 'force_all_finite' was renamed to 'ensure_all_finite' in 1.6 and will be removed in 1.8.\n",
      "  warnings.warn(\n",
      "c:\\Users\\linkiafp\\miniconda3\\envs\\iabd_time_series\\lib\\site-packages\\sklearn\\utils\\deprecation.py:151: FutureWarning: 'force_all_finite' was renamed to 'ensure_all_finite' in 1.6 and will be removed in 1.8.\n",
      "  warnings.warn(\n",
      "c:\\Users\\linkiafp\\miniconda3\\envs\\iabd_time_series\\lib\\site-packages\\sklearn\\utils\\deprecation.py:151: FutureWarning: 'force_all_finite' was renamed to 'ensure_all_finite' in 1.6 and will be removed in 1.8.\n",
      "  warnings.warn(\n",
      "c:\\Users\\linkiafp\\miniconda3\\envs\\iabd_time_series\\lib\\site-packages\\sklearn\\utils\\deprecation.py:151: FutureWarning: 'force_all_finite' was renamed to 'ensure_all_finite' in 1.6 and will be removed in 1.8.\n",
      "  warnings.warn(\n",
      "c:\\Users\\linkiafp\\miniconda3\\envs\\iabd_time_series\\lib\\site-packages\\sklearn\\utils\\deprecation.py:151: FutureWarning: 'force_all_finite' was renamed to 'ensure_all_finite' in 1.6 and will be removed in 1.8.\n",
      "  warnings.warn(\n"
     ]
    },
    {
     "name": "stdout",
     "output_type": "stream",
     "text": [
      "Performing stepwise search to minimize aic\n",
      " ARIMA(2,1,2)(1,0,1)[5] intercept   : AIC=inf, Time=6.07 sec\n",
      " ARIMA(0,1,0)(0,0,0)[5] intercept   : AIC=23137.298, Time=0.09 sec\n"
     ]
    },
    {
     "name": "stderr",
     "output_type": "stream",
     "text": [
      "c:\\Users\\linkiafp\\miniconda3\\envs\\iabd_time_series\\lib\\site-packages\\sklearn\\utils\\deprecation.py:151: FutureWarning: 'force_all_finite' was renamed to 'ensure_all_finite' in 1.6 and will be removed in 1.8.\n",
      "  warnings.warn(\n",
      "c:\\Users\\linkiafp\\miniconda3\\envs\\iabd_time_series\\lib\\site-packages\\sklearn\\utils\\deprecation.py:151: FutureWarning: 'force_all_finite' was renamed to 'ensure_all_finite' in 1.6 and will be removed in 1.8.\n",
      "  warnings.warn(\n"
     ]
    },
    {
     "name": "stdout",
     "output_type": "stream",
     "text": [
      " ARIMA(1,1,0)(1,0,0)[5] intercept   : AIC=23139.186, Time=0.63 sec\n"
     ]
    },
    {
     "name": "stderr",
     "output_type": "stream",
     "text": [
      "c:\\Users\\linkiafp\\miniconda3\\envs\\iabd_time_series\\lib\\site-packages\\sklearn\\utils\\deprecation.py:151: FutureWarning: 'force_all_finite' was renamed to 'ensure_all_finite' in 1.6 and will be removed in 1.8.\n",
      "  warnings.warn(\n"
     ]
    },
    {
     "name": "stdout",
     "output_type": "stream",
     "text": [
      " ARIMA(0,1,1)(0,0,1)[5] intercept   : AIC=23138.975, Time=0.69 sec\n",
      " ARIMA(0,1,0)(0,0,0)[5]             : AIC=23135.953, Time=0.07 sec\n"
     ]
    },
    {
     "name": "stderr",
     "output_type": "stream",
     "text": [
      "c:\\Users\\linkiafp\\miniconda3\\envs\\iabd_time_series\\lib\\site-packages\\sklearn\\utils\\deprecation.py:151: FutureWarning: 'force_all_finite' was renamed to 'ensure_all_finite' in 1.6 and will be removed in 1.8.\n",
      "  warnings.warn(\n",
      "c:\\Users\\linkiafp\\miniconda3\\envs\\iabd_time_series\\lib\\site-packages\\sklearn\\utils\\deprecation.py:151: FutureWarning: 'force_all_finite' was renamed to 'ensure_all_finite' in 1.6 and will be removed in 1.8.\n",
      "  warnings.warn(\n"
     ]
    },
    {
     "name": "stdout",
     "output_type": "stream",
     "text": [
      " ARIMA(0,1,0)(1,0,0)[5] intercept   : AIC=23137.641, Time=0.40 sec\n"
     ]
    },
    {
     "name": "stderr",
     "output_type": "stream",
     "text": [
      "c:\\Users\\linkiafp\\miniconda3\\envs\\iabd_time_series\\lib\\site-packages\\sklearn\\utils\\deprecation.py:151: FutureWarning: 'force_all_finite' was renamed to 'ensure_all_finite' in 1.6 and will be removed in 1.8.\n",
      "  warnings.warn(\n"
     ]
    },
    {
     "name": "stdout",
     "output_type": "stream",
     "text": [
      " ARIMA(0,1,0)(0,0,1)[5] intercept   : AIC=23137.400, Time=0.38 sec\n"
     ]
    },
    {
     "name": "stderr",
     "output_type": "stream",
     "text": [
      "c:\\Users\\linkiafp\\miniconda3\\envs\\iabd_time_series\\lib\\site-packages\\sklearn\\utils\\deprecation.py:151: FutureWarning: 'force_all_finite' was renamed to 'ensure_all_finite' in 1.6 and will be removed in 1.8.\n",
      "  warnings.warn(\n"
     ]
    },
    {
     "name": "stdout",
     "output_type": "stream",
     "text": [
      " ARIMA(0,1,0)(1,0,1)[5] intercept   : AIC=inf, Time=1.57 sec\n"
     ]
    },
    {
     "name": "stderr",
     "output_type": "stream",
     "text": [
      "c:\\Users\\linkiafp\\miniconda3\\envs\\iabd_time_series\\lib\\site-packages\\sklearn\\utils\\deprecation.py:151: FutureWarning: 'force_all_finite' was renamed to 'ensure_all_finite' in 1.6 and will be removed in 1.8.\n",
      "  warnings.warn(\n"
     ]
    },
    {
     "name": "stdout",
     "output_type": "stream",
     "text": [
      " ARIMA(1,1,0)(0,0,0)[5] intercept   : AIC=23138.759, Time=0.25 sec\n"
     ]
    },
    {
     "name": "stderr",
     "output_type": "stream",
     "text": [
      "c:\\Users\\linkiafp\\miniconda3\\envs\\iabd_time_series\\lib\\site-packages\\sklearn\\utils\\deprecation.py:151: FutureWarning: 'force_all_finite' was renamed to 'ensure_all_finite' in 1.6 and will be removed in 1.8.\n",
      "  warnings.warn(\n"
     ]
    },
    {
     "name": "stdout",
     "output_type": "stream",
     "text": [
      " ARIMA(0,1,1)(0,0,0)[5] intercept   : AIC=23138.774, Time=0.32 sec\n"
     ]
    },
    {
     "name": "stderr",
     "output_type": "stream",
     "text": [
      "c:\\Users\\linkiafp\\miniconda3\\envs\\iabd_time_series\\lib\\site-packages\\sklearn\\utils\\deprecation.py:151: FutureWarning: 'force_all_finite' was renamed to 'ensure_all_finite' in 1.6 and will be removed in 1.8.\n",
      "  warnings.warn(\n"
     ]
    },
    {
     "name": "stdout",
     "output_type": "stream",
     "text": [
      " ARIMA(1,1,1)(0,0,0)[5] intercept   : AIC=23140.026, Time=0.57 sec\n",
      "\n",
      "Best model:  ARIMA(0,1,0)(0,0,0)[5]          \n",
      "Total fit time: 11.061 seconds\n",
      "(0, 1, 0) (0, 0, 0, 5)\n"
     ]
    }
   ],
   "source": [
    "# AutoARIMA para encontrar mejores parámetros\n",
    "model = auto_arima(\n",
    "    y,\n",
    "    exogenous=exog,\n",
    "    seasonal=True,\n",
    "    m=5,  # Ciclo estacional (ajustar según datos)\n",
    "    trace=True,\n",
    "    error_action='ignore',\n",
    "    suppress_warnings=True\n",
    ")\n",
    "\n",
    "print(model.order, model.seasonal_order)  # Ver parámetros encontrados"
   ]
  },
  {
   "cell_type": "code",
   "execution_count": 27,
   "metadata": {},
   "outputs": [
    {
     "name": "stderr",
     "output_type": "stream",
     "text": [
      "c:\\Users\\linkiafp\\miniconda3\\envs\\iabd_time_series\\lib\\site-packages\\statsmodels\\tsa\\base\\tsa_model.py:473: ValueWarning: A date index has been provided, but it has no associated frequency information and so will be ignored when e.g. forecasting.\n",
      "  self._init_dates(dates, freq)\n",
      "c:\\Users\\linkiafp\\miniconda3\\envs\\iabd_time_series\\lib\\site-packages\\statsmodels\\tsa\\base\\tsa_model.py:473: ValueWarning: A date index has been provided, but it has no associated frequency information and so will be ignored when e.g. forecasting.\n",
      "  self._init_dates(dates, freq)\n"
     ]
    },
    {
     "name": "stdout",
     "output_type": "stream",
     "text": [
      "                               SARIMAX Results                                \n",
      "==============================================================================\n",
      "Dep. Variable:                   Open   No. Observations:                 3712\n",
      "Model:               SARIMAX(0, 1, 0)   Log Likelihood              -24954.141\n",
      "Date:                Wed, 02 Apr 2025   AIC                          49914.282\n",
      "Time:                        17:37:20   BIC                          49932.938\n",
      "Sample:                             0   HQIC                         49920.920\n",
      "                               - 3712                                         \n",
      "Covariance Type:                  opg                                         \n",
      "===================================================================================\n",
      "                      coef    std err          z      P>|z|      [0.025      0.975]\n",
      "-----------------------------------------------------------------------------------\n",
      "prev_day_Volume -2.019e-09    7.9e-06     -0.000      1.000   -1.55e-05    1.55e-05\n",
      "prev_day_High       0.0282     31.023      0.001      0.999     -60.777      60.833\n",
      "sigma2           1.107e+05   1.13e-05   9.79e+09      0.000    1.11e+05    1.11e+05\n",
      "===================================================================================\n",
      "Ljung-Box (L1) (Q):                   2.87   Jarque-Bera (JB):             35698.68\n",
      "Prob(Q):                              0.09   Prob(JB):                         0.00\n",
      "Heteroskedasticity (H):            1149.16   Skew:                             0.07\n",
      "Prob(H) (two-sided):                  0.00   Kurtosis:                        18.20\n",
      "===================================================================================\n",
      "\n",
      "Warnings:\n",
      "[1] Covariance matrix calculated using the outer product of gradients (complex-step).\n",
      "[2] Covariance matrix is singular or near-singular, with condition number 2.3e+29. Standard errors may be unstable.\n"
     ]
    },
    {
     "name": "stderr",
     "output_type": "stream",
     "text": [
      "c:\\Users\\linkiafp\\miniconda3\\envs\\iabd_time_series\\lib\\site-packages\\statsmodels\\base\\model.py:607: ConvergenceWarning: Maximum Likelihood optimization failed to converge. Check mle_retvals\n",
      "  warnings.warn(\"Maximum Likelihood optimization failed to \"\n"
     ]
    }
   ],
   "source": [
    "# Entrenar modelo SARIMAX final\n",
    "sarimax_model = SARIMAX(\n",
    "    y,\n",
    "    exog=exog,\n",
    "    order=(0, 1, 0),  # Reemplazar con lo que sugirió auto_arima\n",
    "    seasonal_order=(0, 0, 0, 5),\n",
    "    enforce_stationarity=False\n",
    ")\n",
    "results = sarimax_model.fit(disp=False)\n",
    "print(results.summary())"
   ]
  },
  {
   "cell_type": "code",
   "execution_count": 28,
   "metadata": {},
   "outputs": [
    {
     "data": {
      "image/png": "[encoded data removed]",
      "text/plain": [
       "<Figure size 1200x600 with 1 Axes>"
      ]
     },
     "metadata": {},
     "output_type": "display_data"
    }
   ],
   "source": [
    "# Predicción en el conjunto de entrenamiento (para validación)\n",
    "predictions = results.get_prediction(start=10, dynamic=False)  # Evitar primeras 10 obs\n",
    "forecasted = predictions.predicted_mean\n",
    "\n",
    "# Gráfico\n",
    "import matplotlib.pyplot as plt\n",
    "plt.figure(figsize=(12,6))\n",
    "plt.plot(y, label='Real')\n",
    "plt.plot(forecasted, color='red', alpha=0.7, label='Predicción')\n",
    "plt.legend()\n",
    "plt.show()"
   ]
  },
  {
   "cell_type": "code",
   "execution_count": null,
   "metadata": {},
   "outputs": [],
   "source": []
  }
 ],
 "metadata": {
  "kernelspec": {
   "display_name": "iabd_time_series",
   "language": "python",
   "name": "python3"
  },
  "language_info": {
   "codemirror_mode": {
    "name": "ipython",
    "version": 3
   },
   "file_extension": ".py",
   "mimetype": "text/x-python",
   "name": "python",
   "nbconvert_exporter": "python",
   "pygments_lexer": "ipython3",
   "version": "3.10.16"
  }
 },
 "nbformat": 4,
 "nbformat_minor": 2
}
